def read_course_schedule(file_path):
    try:
        # Read all sheets with headers
        df = pd.read_excel(
            file_path,
            sheet_name=0,
            usecols=lambda col: col in [
                'COURSENO', 
                'COURSETITLE',
                'INSTRUCTOR IN CHARGE/Instructor',
                'DAYS/ H',
                'COMPRE DATE',
                'MIDSEM DATE,DAY',
                'MIDSEM TIME'
            ]
        )
        
        # Group by course number and convert to dictionary
        course_data = df.groupby('COURSENO').apply(
            lambda x: x.drop('COURSENO', axis=1).to_dict('records')
        ).to_dict()
        
        return course_data

    except FileNotFoundError:
        print(f"Error: File {file_path} not found")
